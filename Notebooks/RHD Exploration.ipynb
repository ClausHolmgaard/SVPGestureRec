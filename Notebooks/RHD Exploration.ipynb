{
 "cells": [
  {
   "cell_type": "markdown",
   "metadata": {},
   "source": [
    "Dette er en undersøgelse af RHD datasættet fra https://lmb.informatik.uni-freiburg.de/resources/datasets/RenderedHandposeDataset.en.html."
   ]
  },
  {
   "cell_type": "code",
   "execution_count": 9,
   "metadata": {},
   "outputs": [],
   "source": [
    "import os\n",
    "import pickle\n",
    "import numpy as np"
   ]
  },
  {
   "cell_type": "markdown",
   "metadata": {},
   "source": [
    "Hjælper imports til projektet, disse findes i "
   ]
  },
  {
   "cell_type": "markdown",
   "metadata": {},
   "source": [
    "Først, referencer til filer og bibilioteker."
   ]
  },
  {
   "cell_type": "code",
   "execution_count": 6,
   "metadata": {},
   "outputs": [],
   "source": [
    "TRAIN_PATH = os.path.expanduser(\"~/datasets/RHD/RHD_published_v2/training\")\n",
    "ANNOTATIONS_FILE = os.path.join(TRAIN_PATH, \"anno_training.pickle\")\n",
    "IMAGE_PATH = os.path.join(TRAIN_PATH, \"color\")"
   ]
  },
  {
   "cell_type": "markdown",
   "metadata": {},
   "source": [
    "Fra readme filen, ved vi at følgende data er tilgængelig:\n",
    "\n",
    "Keypoints available:<br>\n",
    "0: left wrist, 1-4: left thumb [tip to palm], 5-8: left index, ..., 17-20: left pinky,<br>\n",
    "21: right wrist, 22-25: right thumb, ..., 38-41: right pinky<br>\n",
    "<br>\n",
    "Segmentation masks available:<br>\n",
    "0: background, 1: person, <br>\n",
    "2-4: left thumb [tip to palm], 5-7: left index, ..., 14-16: left pinky, 17: palm, <br>\n",
    "18-20: right thumb, ..., right palm: 33<br>\n",
    "<br>\n",
    "Hvilket betyder, der er 21 punkter tilgængelig på hver hånd."
   ]
  },
  {
   "cell_type": "markdown",
   "metadata": {},
   "source": [
    "Filen der indeholder disse data, kan så åbnes, og læses ind."
   ]
  },
  {
   "cell_type": "code",
   "execution_count": 10,
   "metadata": {},
   "outputs": [],
   "source": [
    "with open(ANNOTATIONS_FILE, 'rb') as f:\n",
    "    annotations = pickle.load(f)"
   ]
  }
 ],
 "metadata": {
  "kernelspec": {
   "display_name": "Python 3",
   "language": "python",
   "name": "python3"
  },
  "language_info": {
   "codemirror_mode": {
    "name": "ipython",
    "version": 3
   },
   "file_extension": ".py",
   "mimetype": "text/x-python",
   "name": "python",
   "nbconvert_exporter": "python",
   "pygments_lexer": "ipython3",
   "version": "3.6.6"
  }
 },
 "nbformat": 4,
 "nbformat_minor": 2
}
