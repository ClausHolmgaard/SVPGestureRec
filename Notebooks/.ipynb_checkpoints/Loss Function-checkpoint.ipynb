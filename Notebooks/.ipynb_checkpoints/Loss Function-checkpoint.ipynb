{
 "cells": [
  {
   "cell_type": "markdown",
   "metadata": {},
   "source": [
    "# Udvikling af Loss Function"
   ]
  },
  {
   "cell_type": "code",
   "execution_count": 6,
   "metadata": {},
   "outputs": [],
   "source": [
    "import os\n",
    "import sys\n",
    "import numpy as np\n",
    "import matplotlib.pyplot as plt"
   ]
  },
  {
   "cell_type": "code",
   "execution_count": 7,
   "metadata": {},
   "outputs": [],
   "source": [
    "# Tilføj biblioteket et niveau over til sys.path\n",
    "HELPERS_PATH = os.path.abspath(\"..\")\n",
    "if not HELPERS_PATH in sys.path:\n",
    "    sys.path.append(HELPERS_PATH)\n",
    "    \n",
    "from Helpers.GeneralHelpers import *"
   ]
  },
  {
   "cell_type": "markdown",
   "metadata": {},
   "source": [
    "Vi ved, at vores model giver 3 outputs per punkt der forudsiges. En konfidens og to offset værdier.<br>\n",
    "En loss function skal så være i stand til, at give en numerisk vurdering af, hvor korrekt et eventuelt output er. <br>\n",
    "Derfor laves der hvad der svarer til et forsimplet output fra modellen, samt hvad der svarer til en repræsentation af vores annotation."
   ]
  },
  {
   "cell_type": "code",
   "execution_count": 14,
   "metadata": {},
   "outputs": [],
   "source": [
    "NUM_CLASSES = 2\n",
    "ANCH_WIDTH = 5\n",
    "ANCH_HEIGHT = 5\n",
    "\n",
    "out_val = np.zeros((ANCH_WIDTH, ANCH_HEIGHT, 3*NUM_CLASSES))\n",
    "anno_val = np.zeros((ANCH_HEIGHT, ANCH_HEIGHT, 3*NUM_CLASSES))\n",
    "\n",
    "zero_vals = np.zeros((ANCH_WIDTH, ANCH_HEIGHT, 3*NUM_CLASSES))"
   ]
  },
  {
   "cell_type": "markdown",
   "metadata": {},
   "source": [
    "Der er også defineret en nul matrix, zero_vals, så vi har noget at lave sanity checks med."
   ]
  },
  {
   "cell_type": "markdown",
   "metadata": {},
   "source": [
    "Dette svare til et 5x5 anker gitter, med 2 klasser."
   ]
  },
  {
   "cell_type": "markdown",
   "metadata": {},
   "source": [
    "Der fyldes først et par værdier i annoterings matricen."
   ]
  },
  {
   "cell_type": "code",
   "execution_count": 9,
   "metadata": {},
   "outputs": [],
   "source": [
    "# Et punkt i anker koordinat (2, 2)\n",
    "anno_val[2, 2, 0] = 1.0\n",
    "# Et punkt i anker koordinat (3, 3)\n",
    "anno_val[3, 3, 1] = 1.0\n",
    "# Punktet i anker koordinat (2, 2) har x offset\n",
    "anno_val[2, 2, 2] = 0.5\n",
    "# Punktet i anker koordinat (2, 2) har y offset\n",
    "anno_val[2, 2, 3] = 0.4\n",
    "# Punktet i anker koordinat (3, 3) har x offset\n",
    "anno_val[3, 3, 4] = 0.1\n",
    "# Punktet i anker koordinat (3, 3) har y offset\n",
    "anno_val[3, 3, 5] = -0.5"
   ]
  },
  {
   "cell_type": "markdown",
   "metadata": {},
   "source": [
    "Og et par værdier i out matricen."
   ]
  },
  {
   "cell_type": "code",
   "execution_count": 10,
   "metadata": {},
   "outputs": [],
   "source": [
    "out_val[2, 2, 0] = 0.9\n",
    "out_val[1, 1, 1] = 0.1\n",
    "out_val[2, 2, 2] = 0.4\n",
    "out_val[2, 2, 3] = 0.4\n",
    "out_val[1, 1, 4] = 0.4\n",
    "out_val[1, 1, 5] = 0.2"
   ]
  },
  {
   "cell_type": "markdown",
   "metadata": {},
   "source": [
    "Det bemærkes, at punkterne ikke detekteres de samme steder, hvilket burde give anledning til en fejl."
   ]
  },
  {
   "cell_type": "markdown",
   "metadata": {},
   "source": [
    "Som det første kigger vi på konfidens værdien. Dette er en kategorisering af, hvorvidt et objekt detekteres i dette punkt. Dette giver anledning til at bruge binary cross entropy."
   ]
  },
  {
   "cell_type": "markdown",
   "metadata": {},
   "source": [
    "Derfor hives konfidens værdierne ud af de to matricer."
   ]
  },
  {
   "cell_type": "code",
   "execution_count": 11,
   "metadata": {},
   "outputs": [],
   "source": [
    "anno_conf = anno_val[:, :, :NUM_CLASSES]\n",
    "out_conf = out_val[:, :, :NUM_CLASSES]"
   ]
  },
  {
   "cell_type": "markdown",
   "metadata": {},
   "source": [
    "Der udføres så en binary cross entropy operation"
   ]
  },
  {
   "cell_type": "code",
   "execution_count": 16,
   "metadata": {},
   "outputs": [],
   "source": [
    "all_loss = binary_crossentropy(out_conf, anno_conf, 1e-16)"
   ]
  },
  {
   "cell_type": "markdown",
   "metadata": {},
   "source": [
    "Tallet 1e-16 er en meget lille værdi, der sendes med, for at forhindre ustabilitet i logaritme funktionen."
   ]
  },
  {
   "cell_type": "markdown",
   "metadata": {},
   "source": [
    "bc indeholder nu en matrix, med et tab på hver plads, disse kan summeres "
   ]
  }
 ],
 "metadata": {
  "kernelspec": {
   "display_name": "Python 3",
   "language": "python",
   "name": "python3"
  },
  "language_info": {
   "codemirror_mode": {
    "name": "ipython",
    "version": 3
   },
   "file_extension": ".py",
   "mimetype": "text/x-python",
   "name": "python",
   "nbconvert_exporter": "python",
   "pygments_lexer": "ipython3",
   "version": "3.6.6"
  }
 },
 "nbformat": 4,
 "nbformat_minor": 2
}
