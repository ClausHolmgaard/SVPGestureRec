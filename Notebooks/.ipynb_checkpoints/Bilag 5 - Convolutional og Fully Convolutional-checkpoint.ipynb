{
 "cells": [
  {
   "cell_type": "markdown",
   "metadata": {},
   "source": [
    "# Bilag 5 - Convolutional og Fully Convolutional\n",
    "Dette er et kig på antallet af parametre i et convolutional net med fully connected lag, fully convolutional net."
   ]
  },
  {
   "cell_type": "markdown",
   "metadata": {},
   "source": [
    "Først et par imports fra keras."
   ]
  },
  {
   "cell_type": "code",
   "execution_count": 1,
   "metadata": {},
   "outputs": [
    {
     "name": "stderr",
     "output_type": "stream",
     "text": [
      "Using TensorFlow backend.\n"
     ]
    }
   ],
   "source": [
    "from keras.layers import Conv2D, Dense, Flatten, Input\n",
    "from keras.models import Model"
   ]
  },
  {
   "cell_type": "markdown",
   "metadata": {},
   "source": [
    "Så definerer vi input størrelsen til modellen."
   ]
  },
  {
   "cell_type": "code",
   "execution_count": 7,
   "metadata": {},
   "outputs": [],
   "source": [
    "HEIGHT = 320\n",
    "WIDTH = 320\n",
    "CHANNELS = 1"
   ]
  },
  {
   "cell_type": "markdown",
   "metadata": {},
   "source": [
    "Der laves så en model der består af\n",
    "- Input lag\n",
    "- Convolutional lag\n",
    "- Flatten lag. Dette lavet input om til en vektor.\n",
    "- Et Dense lag. Dette er et fully connected lag."
   ]
  },
  {
   "cell_type": "code",
   "execution_count": 41,
   "metadata": {},
   "outputs": [],
   "source": [
    "input_layer = Input(shape=(HEIGHT, WIDTH, CHANNELS))\n",
    "conv = Conv2D(filters=128,\n",
    "              kernel_size=(2, 2),\n",
    "              strides=(2, 2),\n",
    "              padding=\"SAME\")(input_layer)\n",
    "\n",
    "flat = Flatten()(conv)\n",
    "output_layer = Dense(units=100)(flat)\n",
    "\n",
    "model = Model(inputs=input_layer, outputs=output_layer)"
   ]
  },
  {
   "cell_type": "markdown",
   "metadata": {},
   "source": [
    "Så printes en oversigt over modellen."
   ]
  },
  {
   "cell_type": "code",
   "execution_count": 42,
   "metadata": {
    "scrolled": false
   },
   "outputs": [
    {
     "name": "stdout",
     "output_type": "stream",
     "text": [
      "_________________________________________________________________\n",
      "Layer (type)                 Output Shape              Param #   \n",
      "=================================================================\n",
      "input_21 (InputLayer)        (None, 320, 320, 1)       0         \n",
      "_________________________________________________________________\n",
      "conv2d_159 (Conv2D)          (None, 160, 160, 128)     640       \n",
      "_________________________________________________________________\n",
      "flatten_6 (Flatten)          (None, 3276800)           0         \n",
      "_________________________________________________________________\n",
      "dense_6 (Dense)              (None, 100)               327680100 \n",
      "=================================================================\n",
      "Total params: 327,680,740\n",
      "Trainable params: 327,680,740\n",
      "Non-trainable params: 0\n",
      "_________________________________________________________________\n"
     ]
    }
   ],
   "source": [
    "model.summary()"
   ]
  },
  {
   "cell_type": "markdown",
   "metadata": {},
   "source": [
    "Og det ses så, at modellen består af lige omkring 327 millioner parametrer."
   ]
  },
  {
   "cell_type": "markdown",
   "metadata": {},
   "source": [
    "Vi prøver så med en fully convolutional model. Denne er på sin vis simplere end den foregående, da de kun består af input, output og convolutional lag derimellem."
   ]
  },
  {
   "cell_type": "code",
   "execution_count": 37,
   "metadata": {},
   "outputs": [],
   "source": [
    "input_layer = Input(shape=(HEIGHT, WIDTH, CHANNELS))\n",
    "conv1 = Conv2D(filters=128, kernel_size=(2, 2), strides=(2, 2), padding=\"SAME\")(input_layer)\n",
    "conv2 = Conv2D(filters=128, kernel_size=(2, 2), strides=(2, 2), padding=\"SAME\")(conv1)\n",
    "conv3 = Conv2D(filters=128, kernel_size=(2, 2), strides=(2, 2), padding=\"SAME\")(conv2)\n",
    "conv4 = Conv2D(filters=128, kernel_size=(2, 2), strides=(2, 2), padding=\"SAME\")(conv3)\n",
    "conv5 = Conv2D(filters=128, kernel_size=(2, 2), strides=(2, 2), padding=\"SAME\")(conv4)\n",
    "conv6 = Conv2D(filters=128, kernel_size=(2, 2), strides=(2, 2), padding=\"SAME\")(conv5)\n",
    "\n",
    "model = Model(inputs=input_layer, outputs=conv6)"
   ]
  },
  {
   "cell_type": "markdown",
   "metadata": {},
   "source": [
    "En oversigt over modellen."
   ]
  },
  {
   "cell_type": "code",
   "execution_count": 38,
   "metadata": {},
   "outputs": [
    {
     "name": "stdout",
     "output_type": "stream",
     "text": [
      "_________________________________________________________________\n",
      "Layer (type)                 Output Shape              Param #   \n",
      "=================================================================\n",
      "input_19 (InputLayer)        (None, 320, 320, 1)       0         \n",
      "_________________________________________________________________\n",
      "conv2d_152 (Conv2D)          (None, 160, 160, 128)     640       \n",
      "_________________________________________________________________\n",
      "conv2d_153 (Conv2D)          (None, 80, 80, 128)       65664     \n",
      "_________________________________________________________________\n",
      "conv2d_154 (Conv2D)          (None, 40, 40, 128)       65664     \n",
      "_________________________________________________________________\n",
      "conv2d_155 (Conv2D)          (None, 20, 20, 128)       65664     \n",
      "_________________________________________________________________\n",
      "conv2d_156 (Conv2D)          (None, 10, 10, 128)       65664     \n",
      "_________________________________________________________________\n",
      "conv2d_157 (Conv2D)          (None, 5, 5, 128)         65664     \n",
      "=================================================================\n",
      "Total params: 328,960\n",
      "Trainable params: 328,960\n",
      "Non-trainable params: 0\n",
      "_________________________________________________________________\n"
     ]
    }
   ],
   "source": [
    "model.summary()"
   ]
  },
  {
   "cell_type": "markdown",
   "metadata": {},
   "source": [
    "Og her ses det så, at denne model består af lige under 329 tusinde parametre. Dette er langt mindre end den første model. Dette er ikke en dyb behandling af forskellen på de to typer modeller, og hvad der ikke snakkes om, er hvor nøjagtige de ender med at være. Erfaringen siger dog, at der kan opnås virkeligt gode resultater med fully convolutional modeller i forhold til almindelige convolutional modeller."
   ]
  }
 ],
 "metadata": {
  "kernelspec": {
   "display_name": "Python 3",
   "language": "python",
   "name": "python3"
  },
  "language_info": {
   "codemirror_mode": {
    "name": "ipython",
    "version": 3
   },
   "file_extension": ".py",
   "mimetype": "text/x-python",
   "name": "python",
   "nbconvert_exporter": "python",
   "pygments_lexer": "ipython3",
   "version": "3.6.6"
  }
 },
 "nbformat": 4,
 "nbformat_minor": 2
}
