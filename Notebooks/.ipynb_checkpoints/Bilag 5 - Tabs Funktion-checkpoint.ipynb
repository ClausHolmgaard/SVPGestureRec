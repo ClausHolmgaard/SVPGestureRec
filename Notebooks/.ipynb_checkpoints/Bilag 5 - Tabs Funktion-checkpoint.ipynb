{
 "cells": [
  {
   "cell_type": "markdown",
   "metadata": {},
   "source": [
    "# Udvikling af Loss Function"
   ]
  },
  {
   "cell_type": "code",
   "execution_count": 1,
   "metadata": {},
   "outputs": [],
   "source": [
    "import os\n",
    "import sys\n",
    "import numpy as np\n",
    "import matplotlib.pyplot as plt"
   ]
  },
  {
   "cell_type": "code",
   "execution_count": 2,
   "metadata": {},
   "outputs": [
    {
     "name": "stderr",
     "output_type": "stream",
     "text": [
      "Using TensorFlow backend.\n"
     ]
    }
   ],
   "source": [
    "# Tilføj biblioteket et niveau over til sys.path\n",
    "HELPERS_PATH = os.path.abspath(\"..\")\n",
    "if not HELPERS_PATH in sys.path:\n",
    "    sys.path.append(HELPERS_PATH)\n",
    "    \n",
    "from Helpers.GeneralHelpers import *"
   ]
  },
  {
   "cell_type": "markdown",
   "metadata": {},
   "source": [
    "Vi ved, at vores model giver 3 outputs per punkt der forudsiges. En konfidens og to offset værdier.<br>\n",
    "En loss function skal så være i stand til, at give en numerisk vurdering af, hvor korrekt et eventuelt output er. <br>\n",
    "Derfor laves der hvad der svarer til et forsimplet output fra modellen, samt hvad der svarer til en repræsentation af vores annotation."
   ]
  },
  {
   "cell_type": "code",
   "execution_count": 3,
   "metadata": {},
   "outputs": [],
   "source": [
    "NUM_CLASSES = 2\n",
    "ANCH_WIDTH = 5\n",
    "ANCH_HEIGHT = 5\n",
    "\n",
    "out_val = np.zeros((ANCH_WIDTH, ANCH_HEIGHT, 3*NUM_CLASSES))\n",
    "anno_val = np.zeros((ANCH_HEIGHT, ANCH_HEIGHT, 3*NUM_CLASSES))\n",
    "\n",
    "zero_vals = np.zeros((ANCH_WIDTH, ANCH_HEIGHT, 3*NUM_CLASSES))"
   ]
  },
  {
   "cell_type": "markdown",
   "metadata": {},
   "source": [
    "Der er også defineret en nul matrix, zero_vals, så vi har noget at lave sanity checks med."
   ]
  },
  {
   "cell_type": "markdown",
   "metadata": {},
   "source": [
    "Dette svare til et 5x5 anker gitter, med 2 klasser."
   ]
  },
  {
   "cell_type": "markdown",
   "metadata": {},
   "source": [
    "Der fyldes først et par værdier i annoterings matricen."
   ]
  },
  {
   "cell_type": "code",
   "execution_count": 4,
   "metadata": {},
   "outputs": [],
   "source": [
    "# Et punkt i anker koordinat (2, 2)\n",
    "anno_val[2, 2, 0] = 1.0\n",
    "# Et punkt i anker koordinat (3, 3)\n",
    "anno_val[3, 3, 1] = 1.0\n",
    "# Punktet i anker koordinat (2, 2) har x offset\n",
    "anno_val[2, 2, 2] = 0.5\n",
    "# Punktet i anker koordinat (2, 2) har y offset\n",
    "anno_val[2, 2, 3] = 0.4\n",
    "# Punktet i anker koordinat (3, 3) har x offset\n",
    "anno_val[3, 3, 4] = 0.1\n",
    "# Punktet i anker koordinat (3, 3) har y offset\n",
    "anno_val[3, 3, 5] = -0.5"
   ]
  },
  {
   "cell_type": "markdown",
   "metadata": {},
   "source": [
    "Og et par værdier i out matricen."
   ]
  },
  {
   "cell_type": "code",
   "execution_count": 5,
   "metadata": {},
   "outputs": [],
   "source": [
    "out_val[2, 2, 0] = 0.9\n",
    "out_val[1, 1, 1] = 0.1\n",
    "out_val[2, 2, 2] = 0.4\n",
    "out_val[2, 2, 3] = 0.4\n",
    "out_val[1, 1, 4] = 0.4\n",
    "out_val[1, 1, 5] = 0.2"
   ]
  },
  {
   "cell_type": "markdown",
   "metadata": {},
   "source": [
    "Det bemærkes, at punkterne ikke detekteres de samme steder, hvilket burde give anledning til en fejl."
   ]
  },
  {
   "cell_type": "markdown",
   "metadata": {},
   "source": [
    "Som det første kigger vi på konfidens værdien. Dette er en kategorisering af, hvorvidt et objekt detekteres i dette punkt. Dette giver anledning til at bruge binary cross entropy."
   ]
  },
  {
   "cell_type": "markdown",
   "metadata": {},
   "source": [
    "Derfor hives konfidens værdierne ud af de to matricer."
   ]
  },
  {
   "cell_type": "code",
   "execution_count": 6,
   "metadata": {},
   "outputs": [],
   "source": [
    "anno_conf = anno_val[:, :, :NUM_CLASSES]\n",
    "out_conf = out_val[:, :, :NUM_CLASSES]"
   ]
  },
  {
   "cell_type": "markdown",
   "metadata": {},
   "source": [
    "Der udføres så en binary cross entropy operation"
   ]
  },
  {
   "cell_type": "code",
   "execution_count": 7,
   "metadata": {},
   "outputs": [],
   "source": [
    "all_loss = binary_crossentropy(out_conf, anno_conf, 1e-16)"
   ]
  },
  {
   "cell_type": "markdown",
   "metadata": {},
   "source": [
    "Tallet 1e-16 er en meget lille værdi, der sendes med, for at forhindre ustabilitet i logaritme funktionen."
   ]
  },
  {
   "cell_type": "markdown",
   "metadata": {},
   "source": [
    "all_loss indeholder nu en matrix, med et tab på hver plads.<br>\n",
    "Vi ønsker dog at de steder hvor der rent faktisk er et punkt, skal veje højere end de steder, hvor der ikke er. Derfor splittes denne i to, den ene med tab hvor der er et punkt, den anden med tab hvor der ikke er."
   ]
  },
  {
   "cell_type": "code",
   "execution_count": 8,
   "metadata": {},
   "outputs": [],
   "source": [
    "point_loss = all_loss * anno_conf\n",
    "non_point_loss = all_loss - point_loss"
   ]
  },
  {
   "cell_type": "markdown",
   "metadata": {},
   "source": [
    "Disse summeres på, for at få en enkelt værdi."
   ]
  },
  {
   "cell_type": "code",
   "execution_count": 9,
   "metadata": {},
   "outputs": [
    {
     "name": "stdout",
     "output_type": "stream",
     "text": [
      "conf_point_loss: 44.20963378548568\n",
      "conf_non_point_loss: 3.684136148790474\n"
     ]
    }
   ],
   "source": [
    "conf_point_loss = np.sum(all_loss)\n",
    "conf_non_point_loss = np.sum(non_point_loss)\n",
    "print(f\"conf_point_loss: {conf_point_loss}\")\n",
    "print(f\"conf_non_point_loss: {conf_non_point_loss}\")"
   ]
  },
  {
   "cell_type": "markdown",
   "metadata": {},
   "source": [
    "Disse kan nu vejes, og ligges sammen."
   ]
  },
  {
   "cell_type": "code",
   "execution_count": 10,
   "metadata": {},
   "outputs": [
    {
     "name": "stdout",
     "output_type": "stream",
     "text": [
      "conf_loss: 90.2613356453666\n"
     ]
    }
   ],
   "source": [
    "conf_loss = conf_point_loss * NUM_CLASSES + conf_non_point_loss * (1/NUM_CLASSES)\n",
    "print(f\"conf_loss: {conf_loss}\")"
   ]
  },
  {
   "cell_type": "markdown",
   "metadata": {},
   "source": [
    "Der kigges så på offset tabet."
   ]
  },
  {
   "cell_type": "markdown",
   "metadata": {},
   "source": [
    "Først hives offset ud fra annoteringen og fra output matrixen."
   ]
  },
  {
   "cell_type": "code",
   "execution_count": 12,
   "metadata": {},
   "outputs": [],
   "source": [
    "offset_anno = anno_val[:, :, NUM_CLASSES:]\n",
    "offset_out = out_val[:, :, NUM_CLASSES:]"
   ]
  },
  {
   "cell_type": "markdown",
   "metadata": {},
   "source": [
    "Herefter tages x og y offsets, så vi har disse for sig selv."
   ]
  },
  {
   "cell_type": "code",
   "execution_count": 15,
   "metadata": {},
   "outputs": [],
   "source": [
    "anno_offset_x = offset_anno[:, :, 0::2]\n",
    "anno_offset_y = offset_anno[:, :, 1::2]\n",
    "\n",
    "out_offset_x = offset_out[:, :, 0::2]\n",
    "out_offset_y = offset_out[:, :, 1::2]"
   ]
  },
  {
   "cell_type": "markdown",
   "metadata": {},
   "source": [
    "Vi ønsker nu kun at finde offset tabet de steder, hvor der rent faktisk er et offset defineret. Dette gøres ved at lave en maske ud fra annoteringen."
   ]
  },
  {
   "cell_type": "code",
   "execution_count": 30,
   "metadata": {},
   "outputs": [],
   "source": [
    "g_x = np.less(anno_offset_x, 0)\n",
    "l_x = np.greater(anno_offset_x, 0)\n",
    "g_y = np.greater(anno_offset_y, 0)\n",
    "l_y = np.less(anno_offset_y, 0)\n",
    "\n",
    "g_x_i = g_x.astype(np.float32)\n",
    "l_x_i = l_x.astype(np.float32)\n",
    "g_y_i = g_y.astype(np.float32)\n",
    "l_y_i = l_y.astype(np.float32)"
   ]
  },
  {
   "cell_type": "code",
   "execution_count": 31,
   "metadata": {},
   "outputs": [],
   "source": [
    "mask_offset_x = np.clip(g_x_i + l_x_i, 0, 1.0)\n",
    "mask_offset_y = np.clip(g_y_i + l_y_i, 0, 1.0)"
   ]
  },
  {
   "cell_type": "markdown",
   "metadata": {},
   "source": [
    "Vi har nu en maske for x og y værdier, der indeholder 1 hvor tabet er relevant, 0 hvor det ikke er.<br>\n",
    "Grunden til den lidt omstændige vej til masken er, at dette også skal virke i keras."
   ]
  },
  {
   "cell_type": "markdown",
   "metadata": {},
   "source": [
    "Vi kan nu lave et L2 tab på hvert offset, og summere op over dette."
   ]
  },
  {
   "cell_type": "code",
   "execution_count": 32,
   "metadata": {},
   "outputs": [],
   "source": [
    "o_loss_x = np.sum(\n",
    "        np.square(\n",
    "            (anno_offset_x - out_offset_x) * mask_offset_x\n",
    "            )\n",
    "        )\n",
    "        \n",
    "o_loss_y = np.sum(\n",
    "        np.square(\n",
    "            (anno_offset_y - out_offset_y) * mask_offset_y\n",
    "            )\n",
    "        )"
   ]
  },
  {
   "cell_type": "markdown",
   "metadata": {},
   "source": [
    "Hvilket giver det endelige tab."
   ]
  },
  {
   "cell_type": "code",
   "execution_count": 34,
   "metadata": {
    "scrolled": true
   },
   "outputs": [
    {
     "name": "stdout",
     "output_type": "stream",
     "text": [
      "Offset loss: 0.27\n"
     ]
    }
   ],
   "source": [
    "offset_loss = o_loss_x + o_loss_y\n",
    "print(f\"Offset loss: {offset_loss}\")"
   ]
  },
  {
   "cell_type": "markdown",
   "metadata": {},
   "source": [
    "Forskellen i størelses orden på de to tab, giver anledning til at overveje mulighed for skalering i den endelige implementation."
   ]
  }
 ],
 "metadata": {
  "kernelspec": {
   "display_name": "Python 3",
   "language": "python",
   "name": "python3"
  },
  "language_info": {
   "codemirror_mode": {
    "name": "ipython",
    "version": 3
   },
   "file_extension": ".py",
   "mimetype": "text/x-python",
   "name": "python",
   "nbconvert_exporter": "python",
   "pygments_lexer": "ipython3",
   "version": "3.6.6"
  }
 },
 "nbformat": 4,
 "nbformat_minor": 2
}
