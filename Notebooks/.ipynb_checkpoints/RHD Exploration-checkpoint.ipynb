{
 "cells": [
  {
   "cell_type": "markdown",
   "metadata": {},
   "source": [
    "Dette er en undersøgelse af RHD datasættet fra https://lmb.informatik.uni-freiburg.de/resources/datasets/RenderedHandposeDataset.en.html."
   ]
  },
  {
   "cell_type": "code",
   "execution_count": 1,
   "metadata": {},
   "outputs": [],
   "source": [
    "import os\n",
    "import cv2\n",
    "import sys\n",
    "import pickle\n",
    "import numpy as np"
   ]
  },
  {
   "cell_type": "markdown",
   "metadata": {},
   "source": [
    "Hjælper imports til projektet, disse findes i https://github.com/ClausHolmgaard/SVPGestureRec/blob/master/Helpers/RHDHelpers.py"
   ]
  },
  {
   "cell_type": "code",
   "execution_count": 2,
   "metadata": {},
   "outputs": [],
   "source": [
    "# Tilføj biblioteket en tak over til sys.path\n",
    "HELPERS_PATH = os.path.abspath(\"..\")\n",
    "if not HELPERS_PATH in sys.path:\n",
    "    sys.path.append(HELPERS_PATH)\n",
    "    \n",
    "from Helpers.RHDHelpers import *"
   ]
  },
  {
   "cell_type": "markdown",
   "metadata": {},
   "source": [
    "Først, referencer til filer og bibilioteker."
   ]
  },
  {
   "cell_type": "code",
   "execution_count": 3,
   "metadata": {},
   "outputs": [],
   "source": [
    "TRAIN_PATH = os.path.expanduser(\"~/datasets/RHD/RHD_published_v2/training\")\n",
    "ANNOTATIONS_FILE = os.path.join(TRAIN_PATH, \"anno_training.pickle\")\n",
    "IMAGE_PATH = os.path.join(TRAIN_PATH, \"color\")"
   ]
  },
  {
   "cell_type": "markdown",
   "metadata": {},
   "source": [
    "Fra readme filen, ved vi at følgende data er tilgængelig:\n",
    "\n",
    "Keypoints available:<br>\n",
    "0: left wrist, 1-4: left thumb [tip to palm], 5-8: left index, ..., 17-20: left pinky,<br>\n",
    "21: right wrist, 22-25: right thumb, ..., 38-41: right pinky<br>\n",
    "<br>\n",
    "Segmentation masks available:<br>\n",
    "0: background, 1: person, <br>\n",
    "2-4: left thumb [tip to palm], 5-7: left index, ..., 14-16: left pinky, 17: palm, <br>\n",
    "18-20: right thumb, ..., right palm: 33<br>\n",
    "<br>\n",
    "Hvilket betyder, der er 21 punkter tilgængelig på hver hånd."
   ]
  },
  {
   "cell_type": "markdown",
   "metadata": {},
   "source": [
    "Filen der indeholder disse data, kan så åbnes, og læses ind."
   ]
  },
  {
   "cell_type": "code",
   "execution_count": 4,
   "metadata": {},
   "outputs": [],
   "source": [
    "with open(ANNOTATIONS_FILE, 'rb') as f:\n",
    "    annotations = pickle.load(f)"
   ]
  },
  {
   "cell_type": "markdown",
   "metadata": {},
   "source": [
    "Lad os vælge nogle index at kigge på."
   ]
  },
  {
   "cell_type": "code",
   "execution_count": 5,
   "metadata": {},
   "outputs": [],
   "source": [
    "ind = range(4)"
   ]
  },
  {
   "cell_type": "markdown",
   "metadata": {},
   "source": [
    "Det følgende er en function, til at tegne punkterne på et billede."
   ]
  },
  {
   "cell_type": "code",
   "execution_count": 6,
   "metadata": {},
   "outputs": [],
   "source": [
    "def draw_points_on_image(image, hand, only_draw_visible):\n",
    "    for p in hand:\n",
    "        visible = p[2] != 0\n",
    "        if not only_draw_visible:\n",
    "            cv2.circle(image, (p[0], p[1]), 1, (0, 255, 0), thickness=1)\n",
    "        else:\n",
    "            if visible:\n",
    "                cv2.circle(image, (p[0], p[1]), 1, (0, 255, 0), thickness=1)\n",
    "    return image"
   ]
  },
  {
   "cell_type": "markdown",
   "metadata": {},
   "source": [
    "De billeder der skal undersøges indlæses nu."
   ]
  },
  {
   "cell_type": "code",
   "execution_count": 7,
   "metadata": {},
   "outputs": [
    {
     "ename": "TypeError",
     "evalue": "load_image() missing 1 required positional argument: 'index'",
     "output_type": "error",
     "traceback": [
      "\u001b[0;31m---------------------------------------------------------------------------\u001b[0m",
      "\u001b[0;31mTypeError\u001b[0m                                 Traceback (most recent call last)",
      "\u001b[0;32m<ipython-input-7-b1f62f0a7983>\u001b[0m in \u001b[0;36m<module>\u001b[0;34m\u001b[0m\n\u001b[1;32m      1\u001b[0m \u001b[0mimages\u001b[0m \u001b[0;34m=\u001b[0m \u001b[0;34m[\u001b[0m\u001b[0;34m]\u001b[0m\u001b[0;34m\u001b[0m\u001b[0m\n\u001b[1;32m      2\u001b[0m \u001b[0;32mfor\u001b[0m \u001b[0mc\u001b[0m\u001b[0;34m,\u001b[0m \u001b[0mi\u001b[0m \u001b[0;32min\u001b[0m \u001b[0menumerate\u001b[0m\u001b[0;34m(\u001b[0m\u001b[0mind\u001b[0m\u001b[0;34m)\u001b[0m\u001b[0;34m:\u001b[0m\u001b[0;34m\u001b[0m\u001b[0m\n\u001b[0;32m----> 3\u001b[0;31m     \u001b[0mim\u001b[0m \u001b[0;34m=\u001b[0m \u001b[0mload_image\u001b[0m\u001b[0;34m(\u001b[0m\u001b[0mi\u001b[0m\u001b[0;34m)\u001b[0m\u001b[0;34m\u001b[0m\u001b[0m\n\u001b[0m\u001b[1;32m      4\u001b[0m \u001b[0;34m\u001b[0m\u001b[0m\n\u001b[1;32m      5\u001b[0m     \u001b[0mleft_hand\u001b[0m \u001b[0;34m=\u001b[0m \u001b[0mget_left_hand\u001b[0m\u001b[0;34m(\u001b[0m\u001b[0mi\u001b[0m\u001b[0;34m,\u001b[0m \u001b[0mannotations\u001b[0m\u001b[0;34m)\u001b[0m\u001b[0;34m\u001b[0m\u001b[0m\n",
      "\u001b[0;31mTypeError\u001b[0m: load_image() missing 1 required positional argument: 'index'"
     ]
    }
   ],
   "source": [
    "images = []\n",
    "for c, i in enumerate(ind):\n",
    "    im = load_image(IMAGE_PATH, i)\n",
    "    \n",
    "    left_hand = get_left_hand(i, annotations)\n",
    "    right_hand = get_right_hand(i, annotations)\n",
    "    \n",
    "    im = draw_points_on_image(im, left_hand)\n",
    "    im = draw_points_on_image(im, right_hand, [\"Index1\"])\n",
    "\n",
    "    images.append(im)"
   ]
  }
 ],
 "metadata": {
  "kernelspec": {
   "display_name": "Python 3",
   "language": "python",
   "name": "python3"
  }
 },
 "nbformat": 4,
 "nbformat_minor": 2
}
